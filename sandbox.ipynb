{
 "cells": [
  {
   "cell_type": "code",
   "execution_count": 6,
   "metadata": {},
   "outputs": [],
   "source": [
    "def process_json_list(json_list):\n",
    "        ldmks = [eval(s) for s in json_list]\n",
    "        return np.array([(x, 384-y, z) for (x,y,z) in ldmks])"
   ]
  },
  {
   "cell_type": "code",
   "execution_count": 7,
   "metadata": {},
   "outputs": [],
   "source": [
    "import cv2\n",
    "import numpy as np\n",
    "import json\n",
    "from glob import glob\n",
    "from tqdm import tqdm\n",
    "import joblib\n",
    "\n",
    "json_fns = glob(\"imgs/*.json\")\n",
    "samples_ns = np.zeros((175000, 2))\n",
    "target = np.zeros((25000, 2))\n",
    "i = 0\n",
    "j = 0\n",
    "model_x = joblib.load(\"model_x.pkl\")\n",
    "model_y = joblib.load(\"model_y.pkl\")"
   ]
  },
  {
   "cell_type": "code",
   "execution_count": 8,
   "metadata": {},
   "outputs": [
    {
     "name": "stderr",
     "output_type": "stream",
     "text": [
      "100%|██████████| 25000/25000 [00:17<00:00, 1466.27it/s]\n"
     ]
    }
   ],
   "source": [
    "for json_fn in tqdm(json_fns[75000:]):\n",
    "    data_file = open(json_fn)\n",
    "    data = json.load(data_file)\n",
    "    #img = cv2.imread(\"%s.jpg\"%json_fn[:-5])\n",
    "    \n",
    "    ldmks_interior_margin = process_json_list( data['interior_margin_2d'])\n",
    "    ldmks_caruncle = process_json_list( data['caruncle_2d'])\n",
    "    ldmks_iris = process_json_list( data['iris_2d'])\n",
    "    eye_c = np.mean(ldmks_iris[:,:2], axis=0).astype(int)\n",
    "    look_vec = list(eval(data['eye_details']['look_vec']))\n",
    "    look_vec[1] = -look_vec[1]\n",
    "    norm = np.sqrt(np.sum((np.array([int(ldmks_caruncle[3][0]), int(ldmks_caruncle[3][1])]) - \\\n",
    "                   np.array([int(ldmks_interior_margin[8][0]), int(ldmks_interior_margin[8][1])])) ** 2))\n",
    "    target[j] = (np.array(eye_c+(np.array(look_vec[:2])*80).astype(int)) - \\\n",
    "                [int(ldmks_caruncle[3][0]), int(ldmks_caruncle[3][1])]) / norm\n",
    "    sample = (np.array([[int(ldmks_caruncle[3][0]), int(ldmks_caruncle[3][1])],\n",
    "                      [int(ldmks_interior_margin[2][0]), int(ldmks_interior_margin[2][1])],\n",
    "                      [int(ldmks_interior_margin[5][0]), int(ldmks_interior_margin[5][1])],\n",
    "                      [int(ldmks_interior_margin[8][0]), int(ldmks_interior_margin[8][1])],\n",
    "                      [int(ldmks_interior_margin[11][0]), int(ldmks_interior_margin[11][1])],\n",
    "                      [int(ldmks_interior_margin[14][0]), int(ldmks_interior_margin[14][1])],\n",
    "                      list(eye_c)]) - [int(ldmks_caruncle[3][0]), int(ldmks_caruncle[3][1])]) / norm\n",
    "    samples_ns[i:i+7] = sample\n",
    "    \n",
    "    #point_x = model_x.predict(sample.reshape((1, 14)))\n",
    "    #temp = np.append(sample.reshape((1, 14)), point_x)\n",
    "    #point_y = model_y.predict(temp.reshape(1, -1))\n",
    "    #cv2.line(img, tuple(eye_c), tuple([int(point_x * norm + ldmks_caruncle[3][0]),\n",
    "    #         int(point_y * norm + ldmks_caruncle[3][1])]), (0,255,0), 2)\n",
    "    \n",
    "    #cv2.line(img, tuple(eye_c), tuple(eye_c+(np.array(look_vec[:2])*80).astype(int)), (0,255,255), 2)\n",
    "    #cv2.imshow(\"syntheseyes_img\", img)\n",
    "    #cv2.waitKey(500)\n",
    "    #cv2.destroyAllWindows\n",
    "    i += 7\n",
    "    j += 1"
   ]
  },
  {
   "cell_type": "code",
   "execution_count": 9,
   "metadata": {},
   "outputs": [],
   "source": [
    "X = samples_ns.reshape((25000, 14))"
   ]
  },
  {
   "cell_type": "code",
   "execution_count": 10,
   "metadata": {},
   "outputs": [],
   "source": [
    "from sklearn.svm import SVR\n",
    "from sklearn.model_selection import train_test_split"
   ]
  },
  {
   "cell_type": "code",
   "execution_count": 11,
   "metadata": {},
   "outputs": [],
   "source": [
    "X_train, X_test, y_train, y_test = train_test_split(X, target, shuffle=False)"
   ]
  },
  {
   "cell_type": "code",
   "execution_count": 12,
   "metadata": {},
   "outputs": [
    {
     "data": {
      "text/plain": [
       "SVR(C=10, kernel='poly')"
      ]
     },
     "execution_count": 12,
     "metadata": {},
     "output_type": "execute_result"
    }
   ],
   "source": [
    "model_x = SVR(C=10, kernel='poly')\n",
    "model_x.fit(X_train, y_train[:, :1].reshape((y_train.shape[0],)))"
   ]
  },
  {
   "cell_type": "code",
   "execution_count": 13,
   "metadata": {},
   "outputs": [],
   "source": [
    "res_x = model_x.predict(X_test)"
   ]
  },
  {
   "cell_type": "code",
   "execution_count": 15,
   "metadata": {},
   "outputs": [
    {
     "data": {
      "text/plain": [
       "0.04154951211495928"
      ]
     },
     "execution_count": 15,
     "metadata": {},
     "output_type": "execute_result"
    }
   ],
   "source": [
    "np.sum(np.abs(res_x - y_test[:, :1].reshape((y_test.shape[0],)))) / y_test.shape[0]"
   ]
  },
  {
   "cell_type": "code",
   "execution_count": 16,
   "metadata": {},
   "outputs": [],
   "source": [
    "X_for_y = np.hstack((X, target[:, :1]))"
   ]
  },
  {
   "cell_type": "code",
   "execution_count": 17,
   "metadata": {},
   "outputs": [],
   "source": [
    "X_train_y, X_test_y, y_train_y, y_test_y = train_test_split(X_for_y, target[:, 1:], shuffle=False)"
   ]
  },
  {
   "cell_type": "code",
   "execution_count": 18,
   "metadata": {},
   "outputs": [
    {
     "name": "stderr",
     "output_type": "stream",
     "text": [
      "/home/andrey/anaconda3/lib/python3.8/site-packages/sklearn/utils/validation.py:73: DataConversionWarning: A column-vector y was passed when a 1d array was expected. Please change the shape of y to (n_samples, ), for example using ravel().\n",
      "  return f(**kwargs)\n"
     ]
    },
    {
     "data": {
      "text/plain": [
       "SVR(C=65)"
      ]
     },
     "execution_count": 18,
     "metadata": {},
     "output_type": "execute_result"
    }
   ],
   "source": [
    "model_y = SVR(C=65, kernel='rbf')\n",
    "model_y.fit(X_train_y, y_train_y.reshape(-1, 1))"
   ]
  },
  {
   "cell_type": "code",
   "execution_count": 20,
   "metadata": {},
   "outputs": [
    {
     "data": {
      "text/plain": [
       "0.031233379531010696"
      ]
     },
     "execution_count": 20,
     "metadata": {},
     "output_type": "execute_result"
    }
   ],
   "source": [
    "res_y = model_y.predict(X_test_y)\n",
    "np.sum(np.abs(res_y - y_test_y.reshape((y_test_y.shape[0],)))) / y_test_y.shape[0]"
   ]
  },
  {
   "cell_type": "code",
   "execution_count": 23,
   "metadata": {},
   "outputs": [],
   "source": [
    "import joblib\n"
   ]
  },
  {
   "cell_type": "code",
   "execution_count": 27,
   "metadata": {},
   "outputs": [
    {
     "data": {
      "text/plain": [
       "['model_x.pkl']"
      ]
     },
     "execution_count": 27,
     "metadata": {},
     "output_type": "execute_result"
    }
   ],
   "source": [
    "joblib.dump(model_x, \"model_x.pkl\")"
   ]
  },
  {
   "cell_type": "code",
   "execution_count": 28,
   "metadata": {},
   "outputs": [
    {
     "data": {
      "text/plain": [
       "['model_y.pkl']"
      ]
     },
     "execution_count": 28,
     "metadata": {},
     "output_type": "execute_result"
    }
   ],
   "source": [
    "joblib.dump(model_y, \"model_y.pkl\")"
   ]
  },
  {
   "cell_type": "code",
   "execution_count": null,
   "metadata": {},
   "outputs": [],
   "source": []
  }
 ],
 "metadata": {
  "kernelspec": {
   "display_name": "Python 3",
   "language": "python",
   "name": "python3"
  },
  "language_info": {
   "codemirror_mode": {
    "name": "ipython",
    "version": 3
   },
   "file_extension": ".py",
   "mimetype": "text/x-python",
   "name": "python",
   "nbconvert_exporter": "python",
   "pygments_lexer": "ipython3",
   "version": "3.8.3"
  }
 },
 "nbformat": 4,
 "nbformat_minor": 4
}
