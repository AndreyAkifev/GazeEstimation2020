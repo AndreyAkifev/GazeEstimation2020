{
 "cells": [
  {
   "cell_type": "code",
   "execution_count": 2,
   "metadata": {},
   "outputs": [],
   "source": [
    "from __future__ import print_function, division\n",
    "import os\n",
    "import pandas as pd\n",
    "from skimage import io, transform\n",
    "import numpy as np\n",
    "import matplotlib.pyplot as plt\n",
    "from tqdm import tqdm\n",
    "from scipy.spatial.transform import Rotation as R\n",
    "from glob import glob\n",
    "import cv2\n",
    "import json\n",
    "\n",
    "import torch\n",
    "from torch.utils.data import Dataset, DataLoader\n",
    "from torchvision import transforms, utils\n",
    "from torch.utils.data import sampler\n",
    "import torch.nn.functional as F\n",
    "import torch.nn as nn\n",
    "import torch.optim as optim\n",
    "\n",
    "\n",
    "# Ignore warnings\n",
    "import warnings\n",
    "warnings.filterwarnings(\"ignore\")\n",
    "\n",
    "NUM_TRAIN = 100000\n",
    "\n",
    "plt.ion()"
   ]
  },
  {
   "cell_type": "code",
   "execution_count": 3,
   "metadata": {},
   "outputs": [],
   "source": [
    "def show_pupil(image, centres):\n",
    "    \"\"\"Show image with pupil\"\"\"\n",
    "    plt.imshow(image[0], cmap='gray')\n",
    "    plt.scatter(centres[0], centres[1], s=20, marker='.', c='r')\n",
    "    plt.pause(0.001)  # pause a bit so that plots are updated"
   ]
  },
  {
   "cell_type": "code",
   "execution_count": 4,
   "metadata": {},
   "outputs": [],
   "source": [
    "def preprocess_unityeyes_image(img, json_data):\n",
    "    ow = 160\n",
    "    oh = 96\n",
    "    # Prepare to segment eye image\n",
    "    ih, iw = img.shape[:2]\n",
    "    ih_2, iw_2 = ih/2.0, iw/2.0\n",
    "\n",
    "    heatmap_w = int(ow/2)\n",
    "    heatmap_h = int(oh/2)\n",
    "\n",
    "    img = cv2.cvtColor(img, cv2.COLOR_BGR2GRAY)\n",
    "\n",
    "    def process_coords(coords_list):\n",
    "        coords = [eval(l) for l in coords_list]\n",
    "        return np.array([(x, ih-y, z) for (x, y, z) in coords])\n",
    "    \n",
    "    interior_landmarks = process_coords(json_data['interior_margin_2d'])\n",
    "    caruncle_landmarks = process_coords(json_data['caruncle_2d'])\n",
    "    iris_landmarks = process_coords(json_data['iris_2d'])\n",
    "\n",
    "    left_corner = np.mean(caruncle_landmarks[:, :2], axis=0)\n",
    "    right_corner = interior_landmarks[8, :2]\n",
    "    eye_width = 1.5 * abs(left_corner[0] - right_corner[0])\n",
    "    eye_middle = np.mean([np.amin(interior_landmarks[:, :2], axis=0),\n",
    "                          np.amax(interior_landmarks[:, :2], axis=0)], axis=0)\n",
    "\n",
    "    # Normalize to eye width.\n",
    "    scale = ow/eye_width\n",
    "\n",
    "    translate = np.asmatrix(np.eye(3))\n",
    "    translate[0, 2] = -eye_middle[0] * scale\n",
    "    translate[1, 2] = -eye_middle[1] * scale\n",
    "\n",
    "    rand_x = np.random.uniform(low=-10, high=10)\n",
    "    rand_y = np.random.uniform(low=-10, high=10)\n",
    "    recenter = np.asmatrix(np.eye(3))\n",
    "    recenter[0, 2] = ow/2 + rand_x\n",
    "    recenter[1, 2] = oh/2 + rand_y\n",
    "\n",
    "    scale_mat = np.asmatrix(np.eye(3))\n",
    "    scale_mat[0, 0] = scale\n",
    "    scale_mat[1, 1] = scale\n",
    "\n",
    "    angle = 0 #np.random.normal(0, 1) * 20 * np.pi/180\n",
    "    rotation = R.from_rotvec([0, 0, angle]).as_matrix()\n",
    "\n",
    "    transform = recenter * rotation * translate * scale_mat\n",
    "    transform_inv = np.linalg.inv(transform)\n",
    "    \n",
    "    # Apply transforms\n",
    "    eye = cv2.warpAffine(img, transform[:2], (ow, oh))\n",
    "\n",
    "    rand_blur = np.random.uniform(low=0, high=20)\n",
    "    eye = cv2.GaussianBlur(eye, (5, 5), rand_blur)\n",
    "\n",
    "    # Normalize eye image\n",
    "    eye = cv2.equalizeHist(eye)\n",
    "    eye = eye.astype(np.float32)\n",
    "    eye = eye / 255.0\n",
    "\n",
    "    iris_center = np.mean(iris_landmarks[:, :2], axis=0)\n",
    "\n",
    "    landmarks = np.concatenate([interior_landmarks[:, :2], \n",
    "                                iris_landmarks[::2, :2], \n",
    "                                iris_center.reshape((1, 2)),\n",
    "                                [[iw_2, ih_2]],  \n",
    "                                ])  \n",
    "\n",
    "    landmarks = np.asmatrix(np.pad(landmarks, ((0, 0), (0, 1)), 'constant', constant_values=1))\n",
    "    landmarks = np.asarray(landmarks * transform[:2].T) * np.array([heatmap_w/ow, heatmap_h/oh])\n",
    "    landmarks = landmarks.astype(np.float32)\n",
    "\n",
    "    return {'image' : eye.reshape((1, 96, 160)), \n",
    "            'centres' : landmarks[32] * 2}"
   ]
  },
  {
   "cell_type": "code",
   "execution_count": 5,
   "metadata": {},
   "outputs": [],
   "source": [
    "class EyePupilDataset(Dataset):\n",
    "    \"\"\"Eye`s pupil dataset.\"\"\"\n",
    "\n",
    "    def __init__(self, img_dir=None, transform=None):\n",
    "\n",
    "        if img_dir is None:\n",
    "            img_dir = 'imgs'\n",
    "\n",
    "        self.img_paths = glob(os.path.join(img_dir, '*.jpg'))\n",
    "        self.img_paths = sorted(self.img_paths, key=lambda x: int(os.path.splitext(os.path.basename(x))[0]))\n",
    "        self.json_paths = []\n",
    "        for img_path in self.img_paths:\n",
    "            idx = os.path.splitext(os.path.basename(img_path))[0]\n",
    "            self.json_paths.append(os.path.join(img_dir, f'{idx}.json'))\n",
    "        self.transform = transform\n",
    "        \n",
    "    def __len__(self):\n",
    "        return len(self.img_paths)\n",
    "\n",
    "    def __getitem__(self, idx):\n",
    "        if torch.is_tensor(idx):\n",
    "            idx = idx.tolist()\n",
    "\n",
    "        full_img = cv2.imread(self.img_paths[idx])\n",
    "        with open(self.json_paths[idx]) as f:\n",
    "            json_data = json.load(f)\n",
    "\n",
    "        sample = preprocess_unityeyes_image(full_img, json_data)\n",
    "        \n",
    "        if self.transform:\n",
    "            sample = self.transform(sample)\n",
    "\n",
    "        return sample"
   ]
  },
  {
   "cell_type": "code",
   "execution_count": 6,
   "metadata": {},
   "outputs": [],
   "source": [
    "eye_dataset = EyePupilDataset()"
   ]
  },
  {
   "cell_type": "code",
   "execution_count": 7,
   "metadata": {},
   "outputs": [
    {
     "name": "stdout",
     "output_type": "stream",
     "text": [
      "15 <class 'numpy.ndarray'> (2,)\n"
     ]
    },
    {
     "data": {
      "image/png": "[encoded data removed]",
      "text/plain": [
       "<Figure size 432x288 with 1 Axes>"
      ]
     },
     "metadata": {
      "needs_background": "light"
     },
     "output_type": "display_data"
    },
    {
     "name": "stdout",
     "output_type": "stream",
     "text": [
      "16 <class 'numpy.ndarray'> (2,)\n"
     ]
    },
    {
     "data": {
      "image/png": "[encoded data removed]",
      "text/plain": [
       "<Figure size 432x288 with 1 Axes>"
      ]
     },
     "metadata": {
      "needs_background": "light"
     },
     "output_type": "display_data"
    }
   ],
   "source": [
    "fig = plt.figure()\n",
    "j = 0\n",
    "for i in range(15, len(eye_dataset)):\n",
    "    sample = eye_dataset[i]\n",
    "\n",
    "    print(i, type(sample['image']), sample['centres'].shape)\n",
    "\n",
    "    ax = plt.subplot(1, 2, j + 1)\n",
    "    ax.set_title('Sample #{}'.format(i))\n",
    "    ax.axis('off')\n",
    "    show_pupil(**sample)\n",
    "    j += 1\n",
    "\n",
    "    if j == 2:\n",
    "        plt.show()\n",
    "        break"
   ]
  },
  {
   "cell_type": "code",
   "execution_count": 8,
   "metadata": {},
   "outputs": [],
   "source": [
    "class ToTensor(object):\n",
    "    \"\"\"Convert ndarrays in sample to Tensors.\"\"\"\n",
    "\n",
    "    def __call__(self, sample):\n",
    "        image, centres = sample['image'], sample['centres']\n",
    "        return {'image': torch.from_numpy(image),\n",
    "                'centres': torch.from_numpy(centres)}"
   ]
  },
  {
   "cell_type": "code",
   "execution_count": 9,
   "metadata": {},
   "outputs": [
    {
     "name": "stdout",
     "output_type": "stream",
     "text": [
      "0 torch.Size([1, 96, 160]) torch.Size([2])\n",
      "1 torch.Size([1, 96, 160]) torch.Size([2])\n",
      "2 torch.Size([1, 96, 160]) torch.Size([2])\n",
      "3 torch.Size([1, 96, 160]) torch.Size([2])\n"
     ]
    }
   ],
   "source": [
    "transformed_dataset = EyePupilDataset(transform=ToTensor())\n",
    "\n",
    "for i in range(len(transformed_dataset)):\n",
    "    sample = transformed_dataset[i]\n",
    "\n",
    "    print(i, sample['image'].size(), sample['centres'].size())\n",
    "\n",
    "    if i == 3:\n",
    "        break"
   ]
  },
  {
   "cell_type": "code",
   "execution_count": 10,
   "metadata": {},
   "outputs": [],
   "source": [
    "loader_train = DataLoader(transformed_dataset, batch_size=100,\n",
    "                          shuffle=False, num_workers=6,\n",
    "                          sampler=sampler.SubsetRandomSampler(range(NUM_TRAIN)))\n",
    "\n",
    "loader_val = DataLoader(transformed_dataset, batch_size=100,\n",
    "                        shuffle=False, num_workers=6,\n",
    "                        sampler=sampler.SubsetRandomSampler(range(90000, 100001)))"
   ]
  },
  {
   "cell_type": "code",
   "execution_count": 11,
   "metadata": {},
   "outputs": [
    {
     "name": "stdout",
     "output_type": "stream",
     "text": [
      "using device: cuda\n"
     ]
    }
   ],
   "source": [
    "USE_GPU = True\n",
    "\n",
    "dtype = torch.float32 \n",
    "\n",
    "if USE_GPU and torch.cuda.is_available():\n",
    "    device = torch.device('cuda')\n",
    "else:\n",
    "    device = torch.device('cpu')\n",
    "\n",
    "print('using device:', device)"
   ]
  },
  {
   "cell_type": "code",
   "execution_count": 12,
   "metadata": {},
   "outputs": [],
   "source": [
    "def flatten(x):\n",
    "    N = x.shape[0] \n",
    "    return x.view(N, -1)  "
   ]
  },
  {
   "cell_type": "code",
   "execution_count": 13,
   "metadata": {},
   "outputs": [],
   "source": [
    "def train(model, optimizer, epochs=30):\n",
    "    \"\"\"\n",
    "    Inputs:\n",
    "    - model: A PyTorch Module giving the model to train.\n",
    "    - optimizer: An Optimizer object we will use to train the model\n",
    "    - epochs: (Optional) A Python integer giving the number of epochs to train for\n",
    "    \n",
    "    Returns: Nothing, but prints model losses during training.\n",
    "    \"\"\"\n",
    "    model = model.to(device=device)\n",
    "    i = 1\n",
    "    for e in range(epochs):\n",
    "        losses_tr = np.array([])\n",
    "        for t, batch in enumerate(loader_train):\n",
    "            model.train() \n",
    "            batch['image'] = batch['image'].to(device=device, dtype=dtype)  # move to device, e.g. GPU\n",
    "            batch['centres'] = batch['centres'].to(device=device, dtype=dtype)\n",
    "\n",
    "            scores = model(batch['image'])\n",
    "            loss = F.mse_loss(scores, batch['centres'])\n",
    "            losses_tr = np.append(losses_tr, loss.item())\n",
    "\n",
    "            optimizer.zero_grad()\n",
    "            loss.backward()\n",
    "            optimizer.step()\n",
    "            \n",
    "        scheduler.step()\n",
    "\n",
    "        print('Epoch %d, loss = %.4f' % (i, losses_tr.mean()))\n",
    "        i += 1\n",
    "        #check_loss(loader_val, model)\n",
    "        print()"
   ]
  },
  {
   "cell_type": "code",
   "execution_count": 14,
   "metadata": {},
   "outputs": [],
   "source": [
    "def check_loss(loader, model):\n",
    "    model.eval() \n",
    "    losses = np.array([])\n",
    "    with torch.no_grad():\n",
    "        for batch in loader:\n",
    "            batch['image'] = batch['image'].to(device=device, dtype=dtype) \n",
    "            batch['centres'] = batch['centres'].to(device=device, dtype=dtype)\n",
    "            scores = model(batch['image'])\n",
    "            loss = F.mse_loss(scores, batch['centres'])\n",
    "            losses = np.append(losses, loss.item())\n",
    "        print('Loss on val = %.4f' % losses.mean())"
   ]
  },
  {
   "cell_type": "code",
   "execution_count": 15,
   "metadata": {},
   "outputs": [],
   "source": [
    "class PupilNet_v1(nn.Module):\n",
    "    def __init__(self):\n",
    "        super().__init__()\n",
    "        self.conv1 = nn.Conv2d(1, 16, kernel_size=3, stride=1)\n",
    "        self.act1 = nn.ReLU()\n",
    "        self.pool = nn.MaxPool2d(kernel_size=2, stride=2)\n",
    "        self.conv2 = nn.Conv2d(16, 16, kernel_size=3, padding=1)\n",
    "        self.act2 = nn.ReLU()\n",
    "        self.conv3 = nn.Conv2d(16, 16, kernel_size=3, padding=1)\n",
    "        self.act3 = nn.ReLU()\n",
    "        self.conv4 = nn.Conv2d(16, 32, kernel_size=3, stride=2)\n",
    "        self.act4 = nn.ReLU()\n",
    "        self.drop1 = nn.Dropout2d()\n",
    "        self.conv5 = nn.Conv2d(32, 64, kernel_size=3, stride=2)\n",
    "        self.act5 = nn.ReLU()\n",
    "        self.drop2 = nn.Dropout2d()\n",
    "        self.conv6 = nn.Conv2d(64, 128, kernel_size=3, stride=2)\n",
    "        self.act6 = nn.ReLU()\n",
    "        self.drop3 = nn.Dropout2d()\n",
    "        self.conv7 = nn.Conv2d(128, 256, kernel_size=3, stride=2)\n",
    "        self.act7 = nn.ReLU()\n",
    "        self.drop4 = nn.Dropout2d()\n",
    "        self.global_pool = nn.AvgPool2d(kernel_size=(2, 4))\n",
    "        self.fc = nn.Linear(256, 2)\n",
    "        \n",
    "    def forward(self, x):\n",
    "        x = self.pool(self.act1(self.conv1(x)))\n",
    "        res = self.act2(self.conv2(x))\n",
    "        res = self.act3(self.conv3(res) + x)\n",
    "        res = self.drop1(self.act4(self.conv4(res)))\n",
    "        res = self.act5(self.conv5(res))\n",
    "        res = self.drop3(self.act6(self.conv6(res)))\n",
    "        res = self.act7(self.conv7(res))\n",
    "        res = flatten(self.global_pool(res))\n",
    "        res = self.fc(res)\n",
    "        return res"
   ]
  },
  {
   "cell_type": "code",
   "execution_count": 16,
   "metadata": {},
   "outputs": [
    {
     "name": "stdout",
     "output_type": "stream",
     "text": [
      "torch.Size([64, 2])\n"
     ]
    }
   ],
   "source": [
    "class PupilNet_v2(nn.Module):\n",
    "    def __init__(self):\n",
    "        super().__init__()\n",
    "        self.conv1 = nn.Conv2d(1, 8, kernel_size=3, stride=1)\n",
    "        self.act1 = nn.ReLU()\n",
    "        self.pool = nn.MaxPool2d(kernel_size=2, stride=2)\n",
    "        self.conv_extra = nn.Conv2d(8, 16, kernel_size=3, padding=1)\n",
    "        self.act_extra = nn.ReLU()\n",
    "        self.conv2 = nn.Conv2d(16, 32, kernel_size=3, stride=2)\n",
    "        self.act2 = nn.ReLU()\n",
    "        self.drop1 = nn.Dropout2d()\n",
    "        self.conv3 = nn.Conv2d(32, 64, kernel_size=3, stride=2)\n",
    "        self.act3 = nn.ReLU()\n",
    "        self.conv4 = nn.Conv2d(64, 128, kernel_size=3, stride=2)\n",
    "        self.act4 = nn.ReLU()\n",
    "        self.drop2 = nn.Dropout2d()\n",
    "        self.conv5 = nn.Conv2d(128, 256, kernel_size=3, stride=2)\n",
    "        self.act5 = nn.ReLU()\n",
    "        self.global_pool = nn.AvgPool2d(kernel_size=(2, 4))\n",
    "        self.fc1 = nn.Linear(256, 64)\n",
    "        self.act6 = nn.ReLU()\n",
    "        self.fc2 = nn.Linear(64, 2)\n",
    "        \n",
    "    def forward(self, x):\n",
    "        x = self.pool(self.act1(self.conv1(x)))\n",
    "        x = self.act_extra(self.conv_extra(x))\n",
    "        x = self.drop1(self.act2(self.conv2(x)))\n",
    "        x = self.act3(self.conv3(x))\n",
    "        x = self.drop2(self.act4(self.conv4(x)))\n",
    "        x = self.act5(self.conv5(x))\n",
    "        x = flatten(self.global_pool(x))\n",
    "        x = self.fc2(self.act6(self.fc1(x)))\n",
    "        return x\n",
    "\n",
    "def test():\n",
    "    x = torch.zeros((64, 1, 96, 160), dtype=dtype)\n",
    "    model = PupilNet_v2()\n",
    "    scores = model(x)\n",
    "    print(scores.size())  # you should see [64, 2]\n",
    "test()"
   ]
  },
  {
   "cell_type": "code",
   "execution_count": 17,
   "metadata": {},
   "outputs": [
    {
     "name": "stdout",
     "output_type": "stream",
     "text": [
      "torch.Size([64, 2])\n"
     ]
    }
   ],
   "source": [
    "class PupilNet_v3(nn.Module):\n",
    "    def __init__(self):\n",
    "        super().__init__()\n",
    "        self.norm = nn.BatchNorm2d(1)\n",
    "        self.conv1 = nn.Conv2d(1, 8, kernel_size=3)\n",
    "        self.act1 = nn.ReLU()\n",
    "        self.conv2 = nn.Conv2d(8, 24, kernel_size=3)\n",
    "        self.act2 = nn.ReLU()\n",
    "        self.pool1 = nn.MaxPool2d(kernel_size=2, stride=2)\n",
    "        self.conv3 = nn.Conv2d(24, 36, kernel_size=3)\n",
    "        self.act3 = nn.ReLU()\n",
    "        self.conv4 = nn.Conv2d(36, 48, kernel_size=3)\n",
    "        self.act4 = nn.ReLU()\n",
    "        self.pool2 = nn.MaxPool2d(kernel_size=2, stride=2)\n",
    "        self.conv5 = nn.Conv2d(48, 64, kernel_size=4)\n",
    "        self.act5 = nn.ReLU()\n",
    "        self.pool3 = nn.MaxPool2d(kernel_size=2 ,stride=2)\n",
    "        self.conv6 = nn.Conv2d(64, 80, kernel_size=3, stride=2)\n",
    "        self.act6 = nn.ReLU()\n",
    "        self.conv7 = nn.Conv2d(80, 96, kernel_size=3)\n",
    "        self.act7 = nn.ReLU()\n",
    "        self.global_pool = nn.AvgPool2d(kernel_size=(2, 6))\n",
    "        self.fc1 = nn.Linear(96, 36)\n",
    "        self.act8 = nn.ReLU()\n",
    "        self.fc2 = nn.Linear(36, 2)\n",
    "        \n",
    "    def forward(self, x):\n",
    "        x = self.act1(self.conv1(self.norm(x)))\n",
    "        x = self.pool1(self.act2(self.conv2(x)))\n",
    "        x = self.act4(self.conv4(self.act3(self.conv3(x))))\n",
    "        x = self.act5(self.conv5(self.pool2(x)))\n",
    "        x = self.act6(self.conv6(self.pool3(x)))\n",
    "        x = self.act7(self.conv7(x))\n",
    "        x = flatten(self.global_pool(x))\n",
    "        x = self.fc2(self.act8(self.fc1(x)))\n",
    "        return x\n",
    "    \n",
    "def test():\n",
    "    x = torch.zeros((64, 1, 96, 160), dtype=dtype)\n",
    "    model = PupilNet_v3()\n",
    "    scores = model(x)\n",
    "    print(scores.size())  # you should see [64, 2]\n",
    "test()"
   ]
  },
  {
   "cell_type": "code",
   "execution_count": 18,
   "metadata": {
    "scrolled": false
   },
   "outputs": [],
   "source": [
    "model = PupilNet_v2()\n",
    "optimizer = optim.Adam(model.parameters())\n",
    "scheduler = optim.lr_scheduler.StepLR(optimizer, step_size=20, gamma=0.1)"
   ]
  },
  {
   "cell_type": "code",
   "execution_count": 18,
   "metadata": {
    "scrolled": true
   },
   "outputs": [
    {
     "name": "stdout",
     "output_type": "stream",
     "text": [
      "Epoch 1, loss = 273.1923\n",
      "\n",
      "Epoch 2, loss = 161.8132\n",
      "\n",
      "Epoch 3, loss = 112.3184\n",
      "\n",
      "Epoch 4, loss = 86.5149\n",
      "\n",
      "Epoch 5, loss = 62.7379\n",
      "\n",
      "Epoch 6, loss = 45.0592\n",
      "\n",
      "Epoch 7, loss = 32.8980\n",
      "\n",
      "Epoch 8, loss = 24.5798\n",
      "\n",
      "Epoch 9, loss = 19.5962\n",
      "\n",
      "Epoch 10, loss = 16.8034\n",
      "\n",
      "Epoch 11, loss = 14.2331\n",
      "\n",
      "Epoch 12, loss = 12.3551\n",
      "\n",
      "Epoch 13, loss = 10.9620\n",
      "\n",
      "Epoch 14, loss = 9.8034\n",
      "\n",
      "Epoch 15, loss = 9.1211\n",
      "\n",
      "Epoch 16, loss = 8.4419\n",
      "\n",
      "Epoch 17, loss = 7.7174\n",
      "\n",
      "Epoch 18, loss = 7.1978\n",
      "\n",
      "Epoch 19, loss = 6.7121\n",
      "\n",
      "Epoch 20, loss = 6.4555\n",
      "\n",
      "Epoch 21, loss = 5.3680\n",
      "\n",
      "Epoch 22, loss = 5.1535\n",
      "\n",
      "Epoch 23, loss = 5.0541\n",
      "\n",
      "Epoch 24, loss = 4.9671\n",
      "\n",
      "Epoch 25, loss = 4.9571\n",
      "\n",
      "Epoch 26, loss = 4.8639\n",
      "\n",
      "Epoch 27, loss = 4.8686\n",
      "\n",
      "Epoch 28, loss = 4.7782\n",
      "\n",
      "Epoch 29, loss = 4.7689\n",
      "\n",
      "Epoch 30, loss = 4.6908\n",
      "\n"
     ]
    }
   ],
   "source": [
    "train(model, optimizer)"
   ]
  },
  {
   "cell_type": "code",
   "execution_count": 124,
   "metadata": {},
   "outputs": [
    {
     "name": "stdout",
     "output_type": "stream",
     "text": [
      "Loss on val = 10.7210\n"
     ]
    }
   ],
   "source": [
    "check_loss(loader_val, model)"
   ]
  },
  {
   "cell_type": "code",
   "execution_count": 21,
   "metadata": {
    "scrolled": true
   },
   "outputs": [
    {
     "data": {
      "text/plain": [
       "<matplotlib.image.AxesImage at 0x7fdfead9d640>"
      ]
     },
     "execution_count": 21,
     "metadata": {},
     "output_type": "execute_result"
    },
    {
     "data": {
      "image/png": "[encoded data removed]",
      "text/plain": [
       "<Figure size 432x288 with 1 Axes>"
      ]
     },
     "metadata": {
      "needs_background": "light"
     },
     "output_type": "display_data"
    }
   ],
   "source": [
    "img = cv2.imread('imgs/1.jpg')\n",
    "json_fn = open('imgs/1.json')\n",
    "data = json.load(json_fn)\n",
    "img = preprocess_unityeyes_image(img, data)['image']\n",
    "eye_c = model(torch.Tensor(img).view(1, 1, 96, 160).to(device))\n",
    "plt.scatter(eye_c[0][0].item(), eye_c[0][1].item())\n",
    "plt.imshow(img[0], cmap='gray')"
   ]
  },
  {
   "cell_type": "code",
   "execution_count": 173,
   "metadata": {},
   "outputs": [],
   "source": [
    "torch.save(model.state_dict(), 'pupilnet_v5.pt')"
   ]
  }
 ],
 "metadata": {
  "kernelspec": {
   "display_name": "Python 3",
   "language": "python",
   "name": "python3"
  },
  "language_info": {
   "codemirror_mode": {
    "name": "ipython",
    "version": 3
   },
   "file_extension": ".py",
   "mimetype": "text/x-python",
   "name": "python",
   "nbconvert_exporter": "python",
   "pygments_lexer": "ipython3",
   "version": "3.8.3"
  }
 },
 "nbformat": 4,
 "nbformat_minor": 4
}
